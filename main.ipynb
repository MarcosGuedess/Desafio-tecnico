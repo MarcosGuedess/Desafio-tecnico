{
 "cells": [
  {
   "cell_type": "markdown",
   "metadata": {
    "id": "kQWlks8jBcRO"
   },
   "source": [
    "# Desafio Rox Patner"
   ]
  },
  {
   "cell_type": "code",
   "execution_count": null,
   "metadata": {},
   "outputs": [],
   "source": [
    "%pip install awswrangler\n",
    "%pip install boto3\n",
    "%pip install dotenv\n",
    "%pip install pyathena"
   ]
  },
  {
   "cell_type": "code",
   "execution_count": 1,
   "metadata": {
    "id": "eVwiBTeKH28T"
   },
   "outputs": [
    {
     "name": "stderr",
     "output_type": "stream",
     "text": [
      "c:\\Users\\marqu\\anaconda3\\lib\\site-packages\\requests\\__init__.py:89: RequestsDependencyWarning: urllib3 (1.26.18) or chardet (3.0.4) doesn't match a supported version!\n",
      "  warnings.warn(\"urllib3 ({}) or chardet ({}) doesn't match a supported \"\n"
     ]
    }
   ],
   "source": [
    "\n",
    "import warnings \n",
    "import boto3\n",
    "import awswrangler as wr\n",
    "import pandas as pd\n",
    "from pyathena import connect\n",
    "import os\n",
    "import dotenv\n",
    "\n",
    "\n",
    "\n",
    "dotenv.load_dotenv()\n",
    "warnings.filterwarnings('ignore')\n",
    "\n",
    "\n",
    "# conexão com a AWS\n",
    "session = boto3.Session(\n",
    "    aws_access_key_id=os.environ['AWS_ACCESS_KEY_ID'],\n",
    "    aws_secret_access_key=os.environ['AWS_SECRET_ACCESS_KEY'],\n",
    "    region_name=os.environ['AWS_REGION']\n",
    ")\n",
    "\n",
    "s3_client = session.client('s3')"
   ]
  },
  {
   "cell_type": "code",
   "execution_count": 2,
   "metadata": {
    "id": "03EyUstgICS_"
   },
   "outputs": [],
   "source": [
    "#Ler os arquivos csv\n",
    "person_person = pd.read_csv('data\\Person.Person.csv', sep = ';', decimal=\",\")\n",
    "production_product = pd.read_csv('data\\Production.Product.csv', sep = ';', decimal=\",\")\n",
    "sales_customer = pd.read_csv('data\\Sales.Customer.csv', sep = ';', decimal=\",\")\n",
    "sales_orderdetail = pd.read_csv('data\\Sales.SalesOrderDetail.csv', sep = ';')\n",
    "sales_orderheader = pd.read_csv('data\\Sales.SalesOrderHeader.csv', sep = ';', decimal=\",\")\n",
    "sales_specialofferproduct = pd.read_csv('data\\Sales.SpecialOfferProduct.csv', sep = ';', decimal=\",\")\n",
    "\n",
    "#Definindo os nomes nos schemas e das tabelas\n",
    "dataframe_names = [\"person_person\",\"production_product\", \"sales_customer\", \"sales_orderdetail\", \"sales_orderheader\", \"sales_specialofferproduct\"]\n",
    "dataframes = [person_person, production_product, sales_customer, sales_orderdetail, sales_orderheader, sales_specialofferproduct]\n"
   ]
  },
  {
   "cell_type": "code",
   "execution_count": 3,
   "metadata": {
    "colab": {
     "base_uri": "https://localhost:8080/"
    },
    "id": "8wnin7exK2Vy",
    "outputId": "4c536b5a-e5ca-4460-e9a7-23a433299020"
   },
   "outputs": [
    {
     "name": "stdout",
     "output_type": "stream",
     "text": [
      "O arquivo: person_person foi inserido no bucket com sucesso\n",
      "O arquivo: production_product foi inserido no bucket com sucesso\n",
      "O arquivo: sales_customer foi inserido no bucket com sucesso\n",
      "O arquivo: sales_orderdetail foi inserido no bucket com sucesso\n",
      "O arquivo: sales_orderheader foi inserido no bucket com sucesso\n",
      "O arquivo: sales_specialofferproduct foi inserido no bucket com sucesso\n"
     ]
    }
   ],
   "source": [
    "#Processo de inserir os dados no S3 e criar as tabelas dentro do Athena\n",
    "\n",
    "for dataframe,name_file in zip(dataframes,dataframe_names):\n",
    "\n",
    "    wr.s3.to_parquet(\n",
    "        df=dataframe,\n",
    "        path=f\"s3://{os.environ['RAW']}/{name_file}\", # caminho do bucket \n",
    "        dataset=True,\n",
    "        database=os.environ['RAW'], # Nome do database Athena\n",
    "        mode = \"overwrite\", # caso já tenha processado o arquivo ele sobrescreve\n",
    "        table=f\"{name_file}\",\n",
    "        boto3_session = session \n",
    "    )\n",
    "\n",
    "    print(f\"O arquivo: {name_file} foi inserido no bucket com sucesso\")"
   ]
  },
  {
   "cell_type": "code",
   "execution_count": 4,
   "metadata": {
    "id": "P46I1asyS20f"
   },
   "outputs": [],
   "source": [
    "#Conector de acesso as tabelas no athena para realizar as consultas SQL\n",
    "\n",
    "def connect_aws():\n",
    "  \n",
    "  conn = connect(aws_access_key_id=os.environ['AWS_ACCESS_KEY_ID'],\n",
    "                aws_secret_access_key=os.environ['AWS_SECRET_ACCESS_KEY'],\n",
    "                s3_staging_dir=f\"s3://{os.environ['S3_STANGING_DIR']}/\",  # bucket em que as consultas devem ser salvas \n",
    "                region_name=os.environ['AWS_REGION'])\n",
    " \n",
    "  return conn\n",
    "teste = connect_aws()"
   ]
  },
  {
   "cell_type": "markdown",
   "metadata": {
    "id": "Nj-DrBJdBVxm"
   },
   "source": [
    "# Desenvolvendo as questões do desafio\n",
    "\n",
    "\n",
    "1.\tEscreva uma query que retorna a quantidade de linhas na tabela Sales.SalesOrderDetail pelo campo SalesOrderID, desde que tenham pelo menos três linhas de detalhes.\n",
    "\n",
    "2.\tEscreva uma query que ligue as tabelas Sales.SalesOrderDetail, Sales.SpecialOfferProduct e Production.Product e retorne os 3 produtos (Name) mais vendidos (pela soma de OrderQty), agrupados pelo número de dias para manufatura (DaysToManufacture).\n",
    "\n",
    "3.\tEscreva uma query ligando as tabelas Person.Person, Sales.Customer e Sales.SalesOrderHeader de forma a obter uma lista de nomes de clientes e uma contagem de pedidos efetuados.\n",
    "\n",
    "4.\tEscreva uma query usando as tabelas Sales.SalesOrderHeader, Sales.SalesOrderDetail e Production.Product, de forma a obter a soma total de produtos (OrderQty) por ProductID e OrderDate.\n",
    "\n",
    "5.\tEscreva uma query mostrando os campos SalesOrderID, OrderDate e TotalDue da tabela Sales.SalesOrderHeader. Obtenha apenas as linhas onde a ordem tenha sido feita durante o mês de setembro/2011 e o total devido esteja acima de 1.000. Ordene pelo total devido decrescente.\n"
   ]
  },
  {
   "cell_type": "code",
   "execution_count": 5,
   "metadata": {
    "colab": {
     "base_uri": "https://localhost:8080/"
    },
    "id": "ADFpKBtpTNKB",
    "outputId": "29cebf0a-f0bf-40ad-e42b-9c33d6aac4bc"
   },
   "outputs": [
    {
     "name": "stdout",
     "output_type": "stream",
     "text": [
      "Total de Linhas: 94157\n",
      "\n"
     ]
    }
   ],
   "source": [
    "# 1.\n",
    "\n",
    "registros_com_mais_3l_na_Tabela = pd.read_sql(\n",
    "\"\"\"\n",
    "SELECT SalesOrderID, COUNT(*) AS NumDeRegDet\n",
    "FROM \"pipelineroxpatner\".sales_orderdetail\n",
    "GROUP BY SalesOrderID\n",
    "HAVING COUNT(*) >= 3\n",
    "\"\"\",\n",
    "connect_aws())\n",
    "\n",
    "print(f\"Total de Linhas: {registros_com_mais_3l_na_Tabela['NumDeRegDet'].sum()}\\n\")\n"
   ]
  },
  {
   "cell_type": "code",
   "execution_count": 6,
   "metadata": {
    "colab": {
     "base_uri": "https://localhost:8080/"
    },
    "id": "KVP9AjYyT9iZ",
    "outputId": "540df1c4-6522-47a7-bb5e-1a175dd7265a"
   },
   "outputs": [
    {
     "name": "stdout",
     "output_type": "stream",
     "text": [
      "Principais produtos mais vendidos:\n",
      "               ProductName  DaysToManufacture  TotalOrderQuantity\n",
      "0            AWC Logo Cap                  0                8311\n",
      "1   Water Bottle - 30 oz.                  0                6815\n",
      "2  Sport-100 Helmet, Blue                  0                6743\n"
     ]
    }
   ],
   "source": [
    "# 2.\n",
    "\n",
    "top3_produtos_ordenados_OrderQty = pd.read_sql(\n",
    "\"\"\"\n",
    "SELECT\n",
    "    pp.Name AS ProductName,\n",
    "    pp.DaysToManufacture,\n",
    "    SUM(sod.OrderQty) AS TotalOrderQuantity\n",
    "FROM\n",
    "\"pipelineroxpatner\".sales_orderdetail sod\n",
    "INNER JOIN \"pipelineroxpatner\".sales_specialofferproduct ssop\n",
    "  ON sod.specialofferid = ssop.specialofferid and sod.productid = ssop.productid\n",
    "INNER JOIN \"pipelineroxpatner\".production_product pp\n",
    "  ON pp.productid = ssop.productid\n",
    "GROUP BY\n",
    "    pp.Name, pp.DaysToManufacture\n",
    "ORDER BY\n",
    "    SUM(sod.OrderQty) DESC\n",
    "LIMIT 3\n",
    "\"\"\",\n",
    "connect_aws()\n",
    ")\n",
    "\n",
    "print(f\"Principais produtos mais vendidos:\\n {top3_produtos_ordenados_OrderQty}\")"
   ]
  },
  {
   "cell_type": "code",
   "execution_count": 7,
   "metadata": {
    "colab": {
     "base_uri": "https://localhost:8080/"
    },
    "id": "xgIcne0uWSVq",
    "outputId": "2bcac6e7-6424-4c6b-886d-f6dd9e24d860"
   },
   "outputs": [
    {
     "name": "stdout",
     "output_type": "stream",
     "text": [
      "Pedidos por cliente: \n",
      "    PersonID        CustomerName  NumberOfOrders\n",
      "0      4515       Dalton  Perez              28\n",
      "1     15994     Mason D Roberts              28\n",
      "2     15978      Henry B Garcia              27\n",
      "3      5409     Jason L Griffin              27\n",
      "4     12569   Ashley  Henderson              27\n",
      "5     15449     Nancy E Chapman              27\n",
      "6     18668       Daniel  Davis              27\n",
      "7     12526   Samantha  Jenkins              27\n",
      "8      4855   Charles P Jackson              27\n",
      "9      3197  Hailey I Patterson              27\n"
     ]
    }
   ],
   "source": [
    "# 3.\n",
    "\n",
    "cliente_por_total_pedido_efetuado = pd.read_sql(\n",
    "\"\"\"\n",
    "SELECT\n",
    "    pe.businessentityid as PersonID,\n",
    "    CONCAT(coalesce(pe.FirstName,''), ' ', COALESCE(pe.middlename,''), ' ', COALESCE(pe.LastName,'')) AS CustomerName,\n",
    "    COUNT(soh.SalesOrderID) AS NumberOfOrders\n",
    "FROM\n",
    "    \"pipelineroxpatner\".Person_Person pe\n",
    "INNER JOIN  \"pipelineroxpatner\".sales_customer sc \n",
    "    ON pe.BusinessEntityID = sc.PersonID\n",
    "INNER JOIN \"pipelineroxpatner\".sales_orderheader soh\n",
    "    ON sc.CustomerID = soh.CustomerID\n",
    "GROUP BY\n",
    "    1,2\n",
    "ORDER BY\n",
    "    COUNT(soh.SalesOrderID) desc\n",
    "\"\"\",\n",
    "connect_aws()\n",
    ")\n",
    "\n",
    "print(f\"Pedidos por cliente: \\n {cliente_por_total_pedido_efetuado.head(10)}\")"
   ]
  },
  {
   "cell_type": "code",
   "execution_count": 8,
   "metadata": {
    "colab": {
     "base_uri": "https://localhost:8080/"
    },
    "id": "DdcvyJ2FWVuK",
    "outputId": "e91dd531-6160-4913-ec01-883225231c96"
   },
   "outputs": [
    {
     "name": "stdout",
     "output_type": "stream",
     "text": [
      "Pedidos por Produto e Data: \n",
      "    ProductID                     ProductName                OrderDate  \\\n",
      "0        711          Sport-100 Helmet, Blue  2011-05-31 00:00:00.000   \n",
      "1        714      Long-Sleeve Logo Jersey, M  2011-05-31 00:00:00.000   \n",
      "2        778          Mountain-100 Black, 48  2011-05-31 00:00:00.000   \n",
      "3        742  HL Mountain Frame - Silver, 46  2011-05-31 00:00:00.000   \n",
      "4        715      Long-Sleeve Logo Jersey, L  2011-05-31 00:00:00.000   \n",
      "\n",
      "   TotalOrderQuantity  \n",
      "0                  33  \n",
      "1                  16  \n",
      "2                  20  \n",
      "3                   3  \n",
      "4                  49  \n"
     ]
    }
   ],
   "source": [
    "#4.\n",
    "\n",
    "produto_agrupado_por_data_e_por_OrderQty = pd.read_sql(\n",
    "\"\"\"SELECT\n",
    "        sod.ProductID,\n",
    "        pp.name ProductName,\n",
    "        soh.OrderDate,\n",
    "        SUM(sod.OrderQty) AS TotalOrderQuantity\n",
    "    FROM\n",
    "        \"pipelineroxpatner\".sales_orderheader soh\n",
    "    INNER JOIN \"pipelineroxpatner\".sales_orderdetail sod\n",
    "        ON sod.salesorderid = soh.salesorderid\n",
    "    INNER JOIN \"pipelineroxpatner\".production_product pp\n",
    "        ON pp.productid = sod.productid\n",
    "    GROUP BY\n",
    "        sod.ProductID, pp.name, soh.OrderDate\n",
    "\"\"\",\n",
    "connect_aws()\n",
    ")\n",
    "\n",
    "print(f\"Pedidos por Produto e Data: \\n {produto_agrupado_por_data_e_por_OrderQty.head(5)}\")"
   ]
  },
  {
   "cell_type": "code",
   "execution_count": 9,
   "metadata": {
    "colab": {
     "base_uri": "https://localhost:8080/"
    },
    "id": "1PTfDPa1WY4J",
    "outputId": "3ee84256-4338-47ec-c806-c72778eaa159"
   },
   "outputs": [
    {
     "name": "stdout",
     "output_type": "stream",
     "text": [
      "Pedidos por Produto e Data: \n",
      "    SalesOrderID                OrderDate   TotalDue\n",
      "0         44324  2011-09-01 00:00:00.000  3953.9884\n",
      "1         44441  2011-09-22 00:00:00.000  3953.9884\n",
      "2         44443  2011-09-22 00:00:00.000  3953.9884\n",
      "3         44444  2011-09-24 00:00:00.000  3953.9884\n",
      "4         44445  2011-09-25 00:00:00.000  3953.9884\n"
     ]
    }
   ],
   "source": [
    "# 5.\n",
    "\n",
    "registros_filtrados_por_data_e_por_TotalDue = pd.read_sql(\n",
    "\"\"\"\n",
    "SELECT\n",
    "    SalesOrderID,\n",
    "    OrderDate,\n",
    "    TotalDue\n",
    "FROM\n",
    "    \"pipelineroxpatner\".sales_orderheader\n",
    "WHERE\n",
    "    YEAR(CAST(OrderDate as TIMESTAMP)) = 2011\n",
    "    AND MONTH(CAST(OrderDate AS TIMESTAMP)) = 9\n",
    "    AND TotalDue > 1000\n",
    "ORDER BY\n",
    "    TotalDue DESC;\n",
    "\"\"\",\n",
    "connect_aws()\n",
    ")\n",
    "\n",
    "print(f\"Pedidos por Produto e Data: \\n {registros_filtrados_por_data_e_por_TotalDue.head()}\")"
   ]
  }
 ],
 "metadata": {
  "colab": {
   "authorship_tag": "ABX9TyOha0NL02AWrzCf41aK5ZeB",
   "include_colab_link": true,
   "provenance": []
  },
  "kernelspec": {
   "display_name": "Python 3 (ipykernel)",
   "language": "python",
   "name": "python3"
  },
  "language_info": {
   "codemirror_mode": {
    "name": "ipython",
    "version": 3
   },
   "file_extension": ".py",
   "mimetype": "text/x-python",
   "name": "python",
   "nbconvert_exporter": "python",
   "pygments_lexer": "ipython3",
   "version": "3.10.9"
  }
 },
 "nbformat": 4,
 "nbformat_minor": 1
}
